{
 "cells": [
  {
   "cell_type": "markdown",
   "metadata": {},
   "source": [
    "# Web Mining and Applied NLP (44-620)\n",
    "\n",
    "## Final Project: Article Summarizer\n",
    "\n",
    "### Student Name:  Aaron Pelton\n",
    "\n",
    "Perform the tasks described in the Markdown cells below.  When you have completed the assignment make sure your code cells have all been run (and have output beneath them) and ensure you have committed and pushed ALL of your changes to your assignment repository.\n",
    "\n",
    "You should bring in code from previous assignments to help you answer the questions below.\n",
    "\n",
    "Every question that requires you to write code will have a code cell underneath it; you may either write your entire solution in that cell or write it in a python file (`.py`), then import and run the appropriate code to answer the question."
   ]
  },
  {
   "cell_type": "markdown",
   "metadata": {},
   "source": [
    "## Imports"
   ]
  },
  {
   "cell_type": "code",
   "execution_count": 1,
   "metadata": {},
   "outputs": [],
   "source": [
    "import requests\n",
    "import spacy\n",
    "from collections import Counter\n",
    "import pickle\n",
    "from bs4 import BeautifulSoup\n",
    "import matplotlib.pyplot as plt\n",
    "from spacytextblob.spacytextblob import SpacyTextBlob"
   ]
  },
  {
   "cell_type": "markdown",
   "metadata": {},
   "source": [
    "1. Find on the internet an article or blog post about a topic that interests you and you are able to get the text for using the technologies we have applied in the course.  Get the html for the article and store it in a file (which you must submit with your project)"
   ]
  },
  {
   "cell_type": "markdown",
   "metadata": {},
   "source": [
    "## Question 1 - Week 7 Project"
   ]
  },
  {
   "cell_type": "code",
   "execution_count": 2,
   "metadata": {},
   "outputs": [],
   "source": [
    "# 1. URL of the article\n",
    "url = 'https://www.boltonusa.com/understanding-fed-rate-cut/'\n",
    "\n",
    "# 2. Fetch the webpage\n",
    "response = requests.get(url)\n",
    "response.raise_for_status()  # Raise error for bad responses\n",
    "\n",
    "# 3. Parse the HTML\n",
    "soup = BeautifulSoup(response.text, 'html.parser')\n",
    "\n",
    "# 4. Try to extract the article tag (common structure)\n",
    "article = soup.find('article')\n",
    "\n",
    "# Fallback: If no <article> tag, fall back to main content heuristics\n",
    "if not article:\n",
    "    article = soup.find('div', {'id': 'main'}) or soup.find('div', class_='content')\n",
    "\n",
    "# 5. Store the HTML string\n",
    "html_content = str(article) if article else ''\n",
    "\n",
    "# 6. Dump to a Pickle file\n",
    "with open('article.pkl', 'wb') as f:\n",
    "    pickle.dump(html_content, f)"
   ]
  },
  {
   "cell_type": "markdown",
   "metadata": {},
   "source": [
    "2. Read in your article's html source from the file you created in question 1 and do sentiment analysis on the article/post's text (use `.get_text()`).  Print the polarity score with an appropriate label.  Additionally print the number of sentences in the original article (with an appropriate label)"
   ]
  },
  {
   "cell_type": "markdown",
   "metadata": {},
   "source": [
    "## Question 2 - Week 7 Project"
   ]
  },
  {
   "cell_type": "code",
   "execution_count": 8,
   "metadata": {},
   "outputs": [
    {
     "name": "stdout",
     "output_type": "stream",
     "text": [
      "News\n",
      "Understanding a Fed Rate Cut\n",
      "By Bolton\n",
      "•\n",
      "October 18th, 2019\n",
      "With the Federal Reserve Board of Governors’ (The Fed) recent decision to further cut interest rates, we would like to take the opportunity to shed light on what it means when the Fed cuts rates, why the rates are cut and the importance of understanding the potential impacts of this decision.\n",
      "What\n",
      "does it mean when the Fed cuts interest rates?\n",
      "When the Fed cuts interest rates they are lowering the fed funds target rate. This is the rate banks charge each other when lending money overnight to meet the federal reserve requirement. This is important because a number of other interest rates utilize the target rate as a reference point. One of the most significant rates influenced is the prime rate, or the rate that banks charge their best customers.\n",
      "Why does the Fed cut rates?\n",
      "The Fed has a few tools at its disposal in order to enact monetary policy: open market operations (the buying and selling of securities to increase or decrease money supply), the discount rate (interest rate charged between banks), reserve requirements (controls the amount banks can lend), and interest on reserve balances (eliminates the opportunity cost that banks incur by not investing required reserves in interest-bearing assets*) . When the Fed cuts rates, the objective is to stabilize prices (control inflation) and stimulate economic growth; as lowering finance costs can spur businesses and consumers to invest as well as borrow.\n",
      "What are the potential impacts of this decision?\n",
      "Some of the positive impacts from lowering interest rates are:\n",
      "Lower borrowing rates for both consumers and businesses. This will incentivize consumers to spend and businesses to invest in projects thus injecting capital into the economy. This infusion of capital will typically spur growth in the economy and the markets.\n",
      "Notable negative impacts that could occur are:\n",
      "If rates are too low, they can spur excessive growth which can lead to inflation and the loss of purchasing power.\n",
      "Low rates can lead investors to take on more risk than normal as they look for yield.\n",
      "Retirees living off interest payments could look to cut spending to avoid tapping into principal. As Baby Boomers transition into retirement, a cut in spending along with an increasing retiree population could have an impact on the overall economy.\n",
      "If the Fed, interest rates or any other topic is a concern or of interest to your investment committees or plan participants, please feel free to reach out to us at (410) 547-0500 or by contacting your Bolton consultant.\n",
      "* Source:\n",
      "https://www.newyorkfed.org/\n",
      "\n",
      "Sentiment:\n",
      "Polarity: 0.11372779519331243\n",
      "Subjectivity: 0.5287225705329154\n",
      "Number of sentences in the article: 20\n"
     ]
    }
   ],
   "source": [
    "# 1. Load the HTML from the .pkl file\n",
    "with open('article.pkl', 'rb') as f:\n",
    "    html_content = pickle.load(f)\n",
    "\n",
    "# 2. Parse the HTML\n",
    "soup = BeautifulSoup(html_content, 'html.parser')\n",
    "\n",
    "# 3. Extract and print the text\n",
    "text = soup.get_text(separator='\\n', strip=True)\n",
    "print(text)\n",
    "\n",
    "# 4. Load a spaCy language model\n",
    "nlp = spacy.load('en_core_web_sm')  # Make sure this model is installed\n",
    "nlp.add_pipe('spacytextblob')\n",
    "\n",
    "# 5. Process the text\n",
    "doc = nlp(text)\n",
    "\n",
    "# 6. Print sentiment scores\n",
    "print(\"\\nSentiment:\")\n",
    "print(\"Polarity:\", doc._.blob.polarity)\n",
    "print(\"Subjectivity:\", doc._.blob.subjectivity)\n",
    "\n",
    "# 7. Count and print number of sentences\n",
    "num_sentences = len(list(doc.sents))\n",
    "print(\"Number of sentences in the article:\", num_sentences)\n"
   ]
  },
  {
   "cell_type": "markdown",
   "metadata": {},
   "source": [
    "3. Load the article text into a trained `spaCy` pipeline, and determine the 5 most frequent tokens (converted to lower case).  Print the common tokens with an appropriate label.  Additionally, print the tokens their frequencies (with appropriate labels)"
   ]
  },
  {
   "cell_type": "markdown",
   "metadata": {},
   "source": [
    "## Question 3 - Week 7 Project"
   ]
  },
  {
   "cell_type": "code",
   "execution_count": 9,
   "metadata": {},
   "outputs": [
    {
     "name": "stdout",
     "output_type": "stream",
     "text": [
      "Top 5 Most Frequent Tokens:\n",
      "  Token: 'rates'  —  Frequency: 14\n",
      "  Token: 'interest'  —  Frequency: 11\n",
      "  Token: 'fed'  —  Frequency: 10\n",
      "  Token: 'rate'  —  Frequency: 8\n",
      "  Token: 'cut'  —  Frequency: 6\n"
     ]
    }
   ],
   "source": [
    "# 1. Load HTML content from the pickle file\n",
    "with open('article.pkl', 'rb') as f:\n",
    "    html_content = pickle.load(f)\n",
    "\n",
    "# 2. Parse the HTML and extract text\n",
    "soup = BeautifulSoup(html_content, 'html.parser')\n",
    "text = soup.get_text(separator=' ', strip=True)\n",
    "\n",
    "# 3. Load a spaCy language model\n",
    "nlp = spacy.load('en_core_web_sm')  # Make sure this model is installed\n",
    "\n",
    "# 4. Process the text\n",
    "doc = nlp(text)\n",
    "\n",
    "# 5. Filter tokens: remove stopwords, punctuation, and whitespace\n",
    "filtered_tokens = [\n",
    "    token.text.lower() for token in doc\n",
    "    if not (token.is_stop or token.is_punct or token.is_space)\n",
    "]\n",
    "\n",
    "# 6. Count token frequencies\n",
    "token_freq = Counter(filtered_tokens)\n",
    "\n",
    "# 7. Get the 5 most common tokens\n",
    "most_common = token_freq.most_common(5)\n",
    "\n",
    "# 8. Print results\n",
    "print(\"Top 5 Most Frequent Tokens:\")\n",
    "for token, freq in most_common:\n",
    "    print(f\"  Token: '{token}'  —  Frequency: {freq}\")"
   ]
  },
  {
   "cell_type": "markdown",
   "metadata": {},
   "source": [
    "4. Load the article text into a trained `spaCy` pipeline, and determine the 5 most frequent lemmas (converted to lower case).  Print the common lemmas with an appropriate label.  Additionally, print the lemmas with their frequencies (with appropriate labels)."
   ]
  },
  {
   "cell_type": "markdown",
   "metadata": {},
   "source": [
    "## Question 4 - Week 7 Project"
   ]
  },
  {
   "cell_type": "code",
   "execution_count": 11,
   "metadata": {},
   "outputs": [
    {
     "name": "stdout",
     "output_type": "stream",
     "text": [
      "Top 5 Most Frequent Lemmas:\n",
      "  Lemma: 'rate'  —  Frequency: 22\n",
      "  Lemma: 'interest'  —  Frequency: 11\n",
      "  Lemma: 'fed'  —  Frequency: 10\n",
      "  Lemma: 'cut'  —  Frequency: 10\n",
      "  Lemma: 'reserve'  —  Frequency: 5\n"
     ]
    }
   ],
   "source": [
    "# 1. Load HTML content from the pickle file\n",
    "with open('article.pkl', 'rb') as f:\n",
    "    html_content = pickle.load(f)\n",
    "\n",
    "# 2. Parse the HTML and extract text\n",
    "soup = BeautifulSoup(html_content, 'html.parser')\n",
    "text = soup.get_text(separator=' ', strip=True)\n",
    "\n",
    "# 3. Load a spaCy language model\n",
    "nlp = spacy.load('en_core_web_sm')  # Make sure this model is installed\n",
    "\n",
    "# 4. Process the text\n",
    "doc = nlp(text)\n",
    "\n",
    "# 5. Filter tokens and get lowercase lemmas\n",
    "filtered_lemmas = [\n",
    "    token.lemma_.lower()\n",
    "    for token in doc\n",
    "    if not (token.is_stop or token.is_punct or token.is_space)\n",
    "]\n",
    "\n",
    "# 6. Count lemma frequencies\n",
    "lemma_freq = Counter(filtered_lemmas)\n",
    "\n",
    "# 7. Get the 5 most common lemmas\n",
    "most_common_lemmas = lemma_freq.most_common(5)\n",
    "\n",
    "# 8. Print results\n",
    "print(\"Top 5 Most Frequent Lemmas:\")\n",
    "for lemma, freq in most_common_lemmas:\n",
    "    print(f\"  Lemma: '{lemma}'  —  Frequency: {freq}\")"
   ]
  },
  {
   "cell_type": "markdown",
   "metadata": {},
   "source": [
    "5. Make a list containing the scores (using tokens) of every sentence in the article, and plot a histogram with appropriate titles and axis labels of the scores. From your histogram, what seems to be the most common range of scores (put the answer in a comment after your code)?"
   ]
  },
  {
   "cell_type": "markdown",
   "metadata": {},
   "source": [
    "## Question 5 - Week 7 Project"
   ]
  },
  {
   "cell_type": "code",
   "execution_count": 13,
   "metadata": {},
   "outputs": [
    {
     "data": {
      "image/png": "[encoded data removed]",
      "text/plain": [
       "<Figure size 1000x600 with 1 Axes>"
      ]
     },
     "metadata": {},
     "output_type": "display_data"
    }
   ],
   "source": [
    "# Load spaCy\n",
    "nlp = spacy.load(\"en_core_web_sm\")\n",
    "\n",
    "# Load article HTML from .pkl\n",
    "with open('article.pkl', 'rb') as f:\n",
    "    html_content = pickle.load(f)\n",
    "\n",
    "# Extract raw text\n",
    "soup = BeautifulSoup(html_content, 'html.parser')\n",
    "text = soup.get_text(separator=' ', strip=True)\n",
    "\n",
    "# Process entire document\n",
    "doc = nlp(text)\n",
    "\n",
    "# Example most_common tokens — you should generate this earlier in your code\n",
    "from collections import Counter\n",
    "filtered_tokens = [\n",
    "    token.text.lower()\n",
    "    for token in doc\n",
    "    if not (token.is_stop or token.is_punct or token.is_space)\n",
    "]\n",
    "most_common = Counter(filtered_tokens).most_common(5)\n",
    "interesting_tokens = [t[0] for t in most_common]\n",
    "\n",
    "# Scoring function\n",
    "def score_sentence_by_token(sentence, interesting_tokens):\n",
    "    doc = nlp(sentence)\n",
    "    words = [token.text.lower() for token in doc if not token.is_punct and not token.is_space]\n",
    "    if not words:\n",
    "        return 0.0\n",
    "    interesting_count = sum(1 for word in words if word in interesting_tokens)\n",
    "    return interesting_count / len(words)\n",
    "\n",
    "# Score each sentence\n",
    "scores = [score_sentence_by_token(sent.text, interesting_tokens) for sent in doc.sents]\n",
    "\n",
    "# Plot histogram\n",
    "plt.figure(figsize=(10, 6))\n",
    "plt.hist(scores, bins=20, color='skyblue', edgecolor='black')\n",
    "plt.title(\"Distribution of Sentence Scores (Token-Based)\")\n",
    "plt.xlabel(\"Score\")\n",
    "plt.ylabel(\"Number of Sentences\")\n",
    "plt.grid(True)\n",
    "plt.tight_layout()\n",
    "plt.show()\n",
    "\n",
    "# The most common range of token scores is 0 to 0.2.  This is a higher range than Week's 6 article token score."
   ]
  },
  {
   "cell_type": "markdown",
   "metadata": {},
   "source": [
    "6. Make a list containing the scores (using lemmas) of every sentence in the article, and plot a histogram with appropriate titles and axis labels of the scores.  From your histogram, what seems to be the most common range of scores (put the answer in a comment after your code)?"
   ]
  },
  {
   "cell_type": "markdown",
   "metadata": {},
   "source": [
    "## Question 6 - Week 7 Project"
   ]
  },
  {
   "cell_type": "code",
   "execution_count": 15,
   "metadata": {},
   "outputs": [
    {
     "data": {
      "image/png": "[encoded data removed]",
      "text/plain": [
       "<Figure size 1000x600 with 1 Axes>"
      ]
     },
     "metadata": {},
     "output_type": "display_data"
    }
   ],
   "source": [
    "# Load spaCy model\n",
    "nlp = spacy.load(\"en_core_web_sm\")\n",
    "\n",
    "# 1. Load the article HTML from the .pkl\n",
    "with open('article.pkl', 'rb') as f:\n",
    "    html_content = pickle.load(f)\n",
    "\n",
    "# 2. Extract article text\n",
    "soup = BeautifulSoup(html_content, 'html.parser')\n",
    "text = soup.get_text(separator=' ', strip=True)\n",
    "\n",
    "# 3. Process the full document\n",
    "doc = nlp(text)\n",
    "\n",
    "# 4. Get interesting lemmas (e.g., top 5 frequent meaningful lemmas)\n",
    "filtered_lemmas = [\n",
    "    token.lemma_.lower()\n",
    "    for token in doc\n",
    "    if not token.is_stop and not token.is_punct and not token.is_space\n",
    "]\n",
    "most_common_lemmas = Counter(filtered_lemmas).most_common(5)\n",
    "interesting_lemmas = [lemma for lemma, _ in most_common_lemmas]\n",
    "\n",
    "# 5. Define scoring function using lemmas\n",
    "def score_sentence_by_lemma(sentence, interesting_lemmas):\n",
    "    doc = nlp(sentence)\n",
    "    lemmas = [token.lemma_.lower() for token in doc if not token.is_punct and not token.is_space]\n",
    "    if not lemmas:\n",
    "        return 0.0\n",
    "    match_count = sum(1 for lemma in lemmas if lemma in interesting_lemmas)\n",
    "    return match_count / len(lemmas)\n",
    "\n",
    "# 6. Score all sentences in the article\n",
    "lemma_scores = [score_sentence_by_lemma(sent.text, interesting_lemmas) for sent in doc.sents]\n",
    "\n",
    "# 7. Plot histogram of lemma-based sentence scores\n",
    "plt.figure(figsize=(10, 6))\n",
    "plt.hist(lemma_scores, bins=20, color='salmon', edgecolor='black')\n",
    "plt.title(\"Distribution of Sentence Scores (Lemma-Based)\")\n",
    "plt.xlabel(\"Lemma-Based Score\")\n",
    "plt.ylabel(\"Number of Sentences\")\n",
    "plt.grid(True)\n",
    "plt.tight_layout()\n",
    "plt.show()\n",
    "\n",
    "# The most common range of lemma scores is 0 to 0.175."
   ]
  },
  {
   "cell_type": "markdown",
   "metadata": {},
   "source": [
    "## Question 7 - Week 7 Project"
   ]
  },
  {
   "cell_type": "markdown",
   "metadata": {},
   "source": [
    "7. Using the histograms from questions 5 and 6, decide a \"cutoff\" score for tokens and lemmas such that fewer than half the sentences would have a score greater than the cutoff score.  Record the scores in this Markdown cell\n",
    "\n",
    "* Cutoff Score (tokens): 0.1\n",
    "* Cutoff Score (lemmas): 0.125\n",
    "\n",
    "Feel free to change these scores as you generate your summaries.  Ideally, we're shooting for at least 6 sentences for our summary, but don't want more than 10 (these numbers are rough estimates; they depend on the length of your article)."
   ]
  },
  {
   "cell_type": "markdown",
   "metadata": {},
   "source": [
    "8. Create a summary of the article by going through every sentence in the article and adding it to an (initially) empty list if its score (based on tokens) is greater than the cutoff score you identified in question 8.  If your loop variable is named `sent`, you may find it easier to add `sent.text.strip()` to your list of sentences.  Print the summary (I would cleanly generate the summary text by `join`ing the strings in your list together with a space (`' '.join(sentence_list)`)."
   ]
  },
  {
   "cell_type": "markdown",
   "metadata": {},
   "source": [
    "## Question 8 - Week 7 Project"
   ]
  },
  {
   "cell_type": "code",
   "execution_count": 19,
   "metadata": {},
   "outputs": [
    {
     "name": "stdout",
     "output_type": "stream",
     "text": [
      "Summary based on Tokens:\n",
      "News\n",
      "Understanding a Fed Rate Cut\n",
      "By Bolton\n",
      "•\n",
      "October 18th, 2019\n",
      "With the Federal Reserve Board of Governors’ (The Fed) recent decision to further cut interest rates, we would like to take the opportunity to shed light on what it means when the Fed cuts rates, why the rates are cut and the importance of understanding the potential impacts of this decision. What\n",
      "does it mean when the Fed cuts interest rates? When the Fed cuts interest rates they are lowering the fed funds target rate. This is important because a number of other interest rates utilize the target rate as a reference point. One of the most significant rates influenced is the prime rate, or the rate that banks charge their best customers. Why does the Fed cut rates? Some of the positive impacts from lowering interest rates are:\n",
      "Lower borrowing rates for both consumers and businesses. Retirees living off interest payments could look to cut spending to avoid tapping into principal.\n"
     ]
    }
   ],
   "source": [
    "# Load HTML\n",
    "with open('article.pkl', 'rb') as f:\n",
    "    html_content = pickle.load(f)\n",
    "\n",
    "# Parse HTML\n",
    "soup = BeautifulSoup(html_content, 'html.parser')\n",
    "text = soup.get_text(separator='\\n', strip=True)\n",
    "\n",
    "# Load spaCy model\n",
    "nlp = spacy.load('en_core_web_sm')\n",
    "doc = nlp(text)\n",
    "\n",
    "# Example list of interesting tokens (you should define your own based on context)\n",
    "interesting_tokens = {'rates', 'interest', 'fed', 'rate', 'cut'}\n",
    "\n",
    "# Scoring function\n",
    "def score_sentence_by_token(sentence, interesting_tokens):\n",
    "    doc = nlp(sentence)\n",
    "    words = [token.text.lower() for token in doc if not token.is_punct and not token.is_space]\n",
    "    if not words:\n",
    "        return 0.0\n",
    "    interesting_count = sum(1 for word in words if word in interesting_tokens)\n",
    "    return interesting_count / len(words)\n",
    "\n",
    "# Score each sentence\n",
    "scores = [score_sentence_by_token(sent.text, interesting_tokens) for sent in doc.sents]\n",
    "\n",
    "# Cutoff score (this is just an example — replace with your actual value from Q8)\n",
    "cutoff_score = 0.1  # You can calculate this dynamically if needed\n",
    "\n",
    "# Build summary\n",
    "summary_sentences = []\n",
    "for sent, score in zip(doc.sents, scores):\n",
    "    if score > cutoff_score:\n",
    "        summary_sentences.append(sent.text.strip())\n",
    "\n",
    "# Join summary\n",
    "summary_token = ' '.join(summary_sentences)\n",
    "\n",
    "# Output\n",
    "print(\"Summary based on Tokens:\")\n",
    "print(summary_token)"
   ]
  },
  {
   "cell_type": "markdown",
   "metadata": {},
   "source": [
    "9. Print the polarity score of your summary you generated with the token scores (with an appropriate label). Additionally, print the number of sentences in the summarized article."
   ]
  },
  {
   "cell_type": "markdown",
   "metadata": {},
   "source": [
    "## Question 9 - Week 7 Project"
   ]
  },
  {
   "cell_type": "code",
   "execution_count": null,
   "metadata": {},
   "outputs": [
    {
     "name": "stdout",
     "output_type": "stream",
     "text": [
      "\n",
      "Sentiment:\n",
      "Polarity: 0.22407024793388428\n",
      "Subjectivity: 0.6120867768595041\n",
      "Number of sentences in the article: 8\n"
     ]
    }
   ],
   "source": [
    "# 1. Load a spaCy language model\n",
    "nlp = spacy.load('en_core_web_sm')  # Make sure this model is installed\n",
    "nlp.add_pipe('spacytextblob')\n",
    "\n",
    "# 2. Process the text\n",
    "doc = nlp(summary_token)\n",
    "\n",
    "# 3. Print sentiment scores\n",
    "print(\"\\nSentiment:\")\n",
    "print(\"Polarity:\", doc._.blob.polarity)\n",
    "print(\"Subjectivity:\", doc._.blob.subjectivity)\n",
    "\n",
    "# 4. Count and print number of sentences\n",
    "num_sentences = len(list(doc.sents))\n",
    "print(\"Number of sentences in the article:\", num_sentences)"
   ]
  },
  {
   "cell_type": "markdown",
   "metadata": {},
   "source": [
    "10. Create a summary of the article by going through every sentence in the article and adding it to an (initially) empty list if its score (based on lemmas) is greater than the cutoff score you identified in question 8.  If your loop variable is named `sent`, you may find it easier to add `sent.text.strip()` to your list of sentences.  Print the summary (I would cleanly generate the summary text by `join`ing the strings in your list together with a space (`' '.join(sentence_list)`)."
   ]
  },
  {
   "cell_type": "markdown",
   "metadata": {},
   "source": [
    "## Question 10 - Week 7 Project"
   ]
  },
  {
   "cell_type": "code",
   "execution_count": 22,
   "metadata": {},
   "outputs": [
    {
     "name": "stdout",
     "output_type": "stream",
     "text": [
      "Summary based on Lemmas:\n",
      "News\n",
      "Understanding a Fed Rate Cut\n",
      "By Bolton\n",
      "•\n",
      "October 18th, 2019\n",
      "With the Federal Reserve Board of Governors’ (The Fed) recent decision to further cut interest rates, we would like to take the opportunity to shed light on what it means when the Fed cuts rates, why the rates are cut and the importance of understanding the potential impacts of this decision. What\n",
      "does it mean when the Fed cuts interest rates? When the Fed cuts interest rates they are lowering the fed funds target rate. This is important because a number of other interest rates utilize the target rate as a reference point. One of the most significant rates influenced is the prime rate, or the rate that banks charge their best customers. Why does the Fed cut rates? Some of the positive impacts from lowering interest rates are:\n",
      "Lower borrowing rates for both consumers and businesses.\n"
     ]
    }
   ],
   "source": [
    "# Load HTML\n",
    "with open('article.pkl', 'rb') as f:\n",
    "    html_content = pickle.load(f)\n",
    "\n",
    "# Parse HTML\n",
    "soup = BeautifulSoup(html_content, 'html.parser')\n",
    "text = soup.get_text(separator='\\n', strip=True)\n",
    "\n",
    "# Load spaCy model\n",
    "nlp = spacy.load('en_core_web_sm')\n",
    "doc = nlp(text)\n",
    "\n",
    "# Define interesting lemmas (lowercase!)\n",
    "# Example: words like \"economy\", \"invest\", \"grow\", etc.\n",
    "interesting_lemmas = {'rate', 'interest', 'fed', 'cut', 'reserve'}\n",
    "\n",
    "# Scoring function using lemmas\n",
    "def score_sentence_by_lemma(sentence, interesting_lemmas):\n",
    "    doc = nlp(sentence)\n",
    "    lemmas = [token.lemma_.lower() for token in doc if not token.is_punct and not token.is_space]\n",
    "    if not lemmas:\n",
    "        return 0.125\n",
    "    interesting_count = sum(1 for lemma in lemmas if lemma in interesting_lemmas)\n",
    "    return interesting_count / len(lemmas)\n",
    "\n",
    "# Score each sentence\n",
    "scores = [score_sentence_by_lemma(sent.text, interesting_lemmas) for sent in doc.sents]\n",
    "\n",
    "# Optional: Set cutoff dynamically (e.g. average score)\n",
    "cutoff_score = sum(scores) / len(scores)\n",
    "\n",
    "# Build summary\n",
    "summary_sentences = []\n",
    "for sent, score in zip(doc.sents, scores):\n",
    "    if score > cutoff_score:\n",
    "        summary_sentences.append(sent.text.strip())\n",
    "\n",
    "# Create final summary\n",
    "summary_lemma = ' '.join(summary_sentences)\n",
    "\n",
    "# Output\n",
    "print(\"Summary based on Lemmas:\")\n",
    "print(summary_lemma)"
   ]
  },
  {
   "cell_type": "markdown",
   "metadata": {},
   "source": [
    "11. Print the polarity score of your summary you generated with the lemma scores (with an appropriate label). Additionally, print the number of sentences in the summarized article."
   ]
  },
  {
   "cell_type": "markdown",
   "metadata": {},
   "source": [
    "## Question 11 - Week 7 Project"
   ]
  },
  {
   "cell_type": "code",
   "execution_count": 23,
   "metadata": {},
   "outputs": [
    {
     "name": "stdout",
     "output_type": "stream",
     "text": [
      "\n",
      "Sentiment:\n",
      "Polarity: 0.22407024793388428\n",
      "Subjectivity: 0.6120867768595041\n",
      "Number of sentences in the article: 7\n"
     ]
    }
   ],
   "source": [
    "# 1. Load a spaCy language model\n",
    "nlp = spacy.load('en_core_web_sm')  # Make sure this model is installed\n",
    "nlp.add_pipe('spacytextblob')\n",
    "\n",
    "# 2. Process the text\n",
    "doc = nlp(summary_lemma)\n",
    "\n",
    "# 3. Print sentiment scores\n",
    "print(\"\\nSentiment:\")\n",
    "print(\"Polarity:\", doc._.blob.polarity)\n",
    "print(\"Subjectivity:\", doc._.blob.subjectivity)\n",
    "\n",
    "# 4. Count and print number of sentences\n",
    "num_sentences = len(list(doc.sents))\n",
    "print(\"Number of sentences in the article:\", num_sentences)"
   ]
  },
  {
   "cell_type": "markdown",
   "metadata": {},
   "source": [
    "## Question 12 - Week 7 Project"
   ]
  },
  {
   "cell_type": "markdown",
   "metadata": {},
   "source": [
    "12.  Compare your polarity scores of your summaries to the polarity scores of the initial article.  Is there a difference?  Why do you think that may or may not be?.  Answer in this Markdown cell.  \n",
    "\n",
    "The polarity of the whole article was .11 while the summaries were .22.  I agree that the summary looks more positive than the whole article.  I think this is because the negative setences were not included."
   ]
  },
  {
   "cell_type": "markdown",
   "metadata": {},
   "source": [
    "## Question 13 - Week 7 Project"
   ]
  },
  {
   "cell_type": "markdown",
   "metadata": {},
   "source": [
    "13. Based on your reading of the original article, which summary do you think is better (if there's a difference).  Why do you think this might be?\n",
    "\n",
    "The token summary just had one more sentence.  The additional sentence did have a key point.  So I think the token summary was better."
   ]
  }
 ],
 "metadata": {
  "kernelspec": {
   "display_name": "Python 3",
   "language": "python",
   "name": "python3"
  },
  "language_info": {
   "codemirror_mode": {
    "name": "ipython",
    "version": 3
   },
   "file_extension": ".py",
   "mimetype": "text/x-python",
   "name": "python",
   "nbconvert_exporter": "python",
   "pygments_lexer": "ipython3",
   "version": "3.12.5"
  }
 },
 "nbformat": 4,
 "nbformat_minor": 4
}
